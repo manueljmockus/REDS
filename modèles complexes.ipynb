{
 "cells": [
  {
   "cell_type": "code",
   "execution_count": 39,
   "id": "7d05f881",
   "metadata": {},
   "outputs": [],
   "source": [
    "import numpy as np\n",
    "import h5py\n",
    "import pandas as pd\n",
    "import matplotlib.pyplot as plt\n",
    "import time\n",
    "from statistics import pstdev\n",
    "from sklearn.model_selection import train_test_split, GridSearchCV\n",
    "from sklearn.ensemble import GradientBoostingClassifier, BaggingClassifier\n",
    "from sklearn.metrics import *\n",
    "from sklearn.dummy import DummyClassifier\n",
    "from sklearn.multiclass import OneVsRestClassifier\n",
    "from sklearn.preprocessing import label_binarize\n",
    "from sklearn.tree import DecisionTreeClassifier\n",
    "from sklearn.model_selection import GroupKFold"
   ]
  },
  {
   "cell_type": "code",
   "execution_count": 2,
   "id": "1d9b43e7",
   "metadata": {},
   "outputs": [],
   "source": [
    "h5 = h5py.File('data/SG24_dataset.h5')"
   ]
  },
  {
   "cell_type": "code",
   "execution_count": 3,
   "id": "35c92c1a",
   "metadata": {},
   "outputs": [
    {
     "name": "stdout",
     "output_type": "stream",
     "text": [
      "['Predictors', 'Target', 'User']\n",
      "<HDF5 dataset \"Predictors\": shape (29, 2400), type \"<f8\">\n",
      "<HDF5 dataset \"Target\": shape (1, 2400), type \"|i1\">\n",
      "<HDF5 dataset \"User\": shape (1, 2400), type \"|i1\">\n"
     ]
    }
   ],
   "source": [
    "print(list(h5.keys()))\n",
    "print(h5['Predictors'])\n",
    "print(h5['Target'])\n",
    "print(h5['User'])"
   ]
  },
  {
   "cell_type": "code",
   "execution_count": 4,
   "id": "7968ced2",
   "metadata": {},
   "outputs": [],
   "source": [
    "predictors = np.asarray(h5['Predictors'])\n",
    "pred = pd.DataFrame(predictors)"
   ]
  },
  {
   "cell_type": "code",
   "execution_count": 5,
   "id": "b1372691",
   "metadata": {},
   "outputs": [],
   "source": [
    "target = np.asarray(h5['Target'])\n",
    "tar = pd.DataFrame(target[0])"
   ]
  },
  {
   "cell_type": "code",
   "execution_count": 6,
   "id": "0efd01d7",
   "metadata": {},
   "outputs": [],
   "source": [
    "users = np.asarray(h5['User'])\n",
    "user = pd.DataFrame(users[0])"
   ]
  },
  {
   "cell_type": "code",
   "execution_count": 7,
   "id": "64668258",
   "metadata": {},
   "outputs": [
    {
     "name": "stdout",
     "output_type": "stream",
     "text": [
      "(2400, 26)\n",
      "(2400,)\n"
     ]
    }
   ],
   "source": [
    "predictors = predictors[3:]\n",
    "normalized_predictors = (predictors - np.mean(predictors, axis = 0))/ np.std(predictors, axis = 0)\n",
    "final_predictors = normalized_predictors.transpose()\n",
    "target = target[0]\n",
    "print(final_predictors.shape)\n",
    "print(target.shape)"
   ]
  },
  {
   "cell_type": "markdown",
   "id": "1745979c",
   "metadata": {},
   "source": [
    "# train aléa / test aléa"
   ]
  },
  {
   "cell_type": "code",
   "execution_count": 8,
   "id": "01db038e",
   "metadata": {},
   "outputs": [],
   "source": [
    "x_train,x_test,y_train,y_test=train_test_split(final_predictors, target, test_size=0.15, shuffle=True)"
   ]
  },
  {
   "cell_type": "markdown",
   "id": "fe53e2ed",
   "metadata": {},
   "source": [
    "## XGBoost"
   ]
  },
  {
   "cell_type": "code",
   "execution_count": 15,
   "id": "43cc6f7a",
   "metadata": {},
   "outputs": [
    {
     "name": "stdout",
     "output_type": "stream",
     "text": [
      "0.9406981123193523\n",
      "{'learning_rate': 0.15, 'min_samples_leaf': 0.1, 'min_samples_split': 0.2}\n"
     ]
    }
   ],
   "source": [
    "GB = GradientBoostingClassifier(loss='deviance',max_features='log2',n_estimators=60,max_depth=8)\n",
    "\n",
    "pgrid = {\n",
    "    \"learning_rate\": [0.075, 0.08,0.09,0.1, 0.15],\n",
    "    \"min_samples_split\": [0.1,0.2,0.3,0.4,0.5],\n",
    "    \"min_samples_leaf\": [0.1,0.2,0.3,0.4,0.5]\n",
    "    }\n",
    "\n",
    "grid_search = GridSearchCV(GB, param_grid=pgrid, cv=7, scoring='accuracy')\n",
    "grid_search.fit(x_train, y_train)\n",
    "print(grid_search.best_score_)\n",
    "print(grid_search.best_params_)"
   ]
  },
  {
   "cell_type": "code",
   "execution_count": 24,
   "id": "283b2b1d",
   "metadata": {},
   "outputs": [
    {
     "name": "stdout",
     "output_type": "stream",
     "text": [
      "train time :  9.433748722076416\n",
      "test time :  0.024954795837402344\n",
      "accuracy train :  1.0\n",
      "accuracy test :  0.9333333333333333\n"
     ]
    }
   ],
   "source": [
    "GB = GradientBoostingClassifier(loss='deviance',max_features='log2',n_estimators=60,max_depth=8, learning_rate=0.15, min_samples_leaf=0.1, min_samples_split=0.2)\n",
    "start_time = time.time()\n",
    "GB.fit(x_train, y_train)\n",
    "print(\"train time : \",time.time() - start_time)\n",
    "\n",
    "start_time = time.time()\n",
    "yhat_rf=GB.predict(x_test)\n",
    "print(\"test time : \",time.time() - start_time)\n",
    "\n",
    "print(\"accuracy train : \",accuracy_score(y_train,GB.predict(x_train)))\n",
    "print(\"accuracy test : \",accuracy_score(y_test,yhat_rf))"
   ]
  },
  {
   "cell_type": "markdown",
   "id": "43e353fb",
   "metadata": {},
   "source": [
    "# Bagging"
   ]
  },
  {
   "cell_type": "code",
   "execution_count": 26,
   "id": "01d4ce4a",
   "metadata": {},
   "outputs": [
    {
     "name": "stdout",
     "output_type": "stream",
     "text": [
      "0.9455955239036725\n",
      "{'bootstrap': False, 'bootstrap_features': False, 'max_samples': 1.0}\n"
     ]
    }
   ],
   "source": [
    "Ba = BaggingClassifier(n_estimators = 100, max_features = 0.5)\n",
    "\n",
    "pgrid = {\n",
    "    'bootstrap': [True, False],\n",
    "    'bootstrap_features': [True, False], \n",
    "    'max_samples' : [0.6, 0.8, 1.0]\n",
    "    }\n",
    "\n",
    "grid_search = GridSearchCV(Ba, param_grid=pgrid, cv=7, scoring='accuracy')\n",
    "grid_search.fit(x_train, y_train)\n",
    "print(grid_search.best_score_)\n",
    "print(grid_search.best_params_)"
   ]
  },
  {
   "cell_type": "code",
   "execution_count": 29,
   "id": "3a749f00",
   "metadata": {},
   "outputs": [
    {
     "name": "stdout",
     "output_type": "stream",
     "text": [
      "train time :  5.10634708404541\n",
      "test time :  0.036031484603881836\n",
      "accuracy train :  1.0\n",
      "accuracy test :  0.9472222222222222\n"
     ]
    }
   ],
   "source": [
    "Ba=BaggingClassifier(bootstrap=False, bootstrap_features=False, max_samples=1.0, n_estimators = 100, max_features = 0.5)\n",
    "start_time = time.time()\n",
    "Ba.fit(x_train, y_train)\n",
    "print(\"train time : \",time.time() - start_time)\n",
    "\n",
    "start_time = time.time()\n",
    "yhat_rf=Ba.predict(x_test)\n",
    "print(\"test time : \",time.time() - start_time)\n",
    "\n",
    "print(\"accuracy train : \",accuracy_score(y_train,Ba.predict(x_train)))\n",
    "print(\"accuracy test : \",accuracy_score(y_test,yhat_rf))"
   ]
  },
  {
   "cell_type": "markdown",
   "id": "584929d0",
   "metadata": {},
   "source": [
    "# test by users train aléa"
   ]
  },
  {
   "cell_type": "code",
   "execution_count": 43,
   "id": "4fe20971",
   "metadata": {},
   "outputs": [],
   "source": [
    "def experience_by_user(user):\n",
    "    l=np.where(np.array(users[0]) == user)[0]\n",
    "    x_train=[final_predictors[i] for i in range(len(final_predictors)) if i not in l]\n",
    "    print(\"taille x_train : \",len(x_train))\n",
    "    y_train=[target[i] for i in range(len(final_predictors)) if i not in l]\n",
    "    x_test=[final_predictors[i] for i in l]\n",
    "    print(\"taille x_test : \",len(x_test))\n",
    "    y_test=[target[i] for i in l]\n",
    "    \n",
    "    print(\"\\n----------------- Boosting -----------------\")\n",
    "    GB = GradientBoostingClassifier(loss='deviance',max_features='log2',n_estimators=60,max_depth=8, learning_rate=0.15, min_samples_leaf=0.1, min_samples_split=0.2)\n",
    "    start_time = time.time()\n",
    "    GB.fit(x_train, y_train)\n",
    "    print(\"train time : \",time.time() - start_time)\n",
    "    start_time = time.time()\n",
    "    yhat_rf=GB.predict(x_test)\n",
    "    print(\"test time : \",time.time() - start_time)\n",
    "    print(\"accuracy train : \",accuracy_score(y_train,GB.predict(x_train)))\n",
    "    print(\"accuracy test : \",accuracy_score(y_test,yhat_rf))\n",
    "    \n",
    "    print(\"\\n----------------- Bagging -----------------\")\n",
    "    Ba=BaggingClassifier(bootstrap=False, bootstrap_features=False, max_samples=1.0, n_estimators = 100, max_features = 0.5)\n",
    "    start_time = time.time()\n",
    "    Ba.fit(x_train, y_train)\n",
    "    print(\"train time : \",time.time() - start_time)\n",
    "    start_time = time.time()\n",
    "    yhat_rf=Ba.predict(x_test)\n",
    "    print(\"test time : \",time.time() - start_time)\n",
    "    print(\"accuracy train : \",accuracy_score(y_train,Ba.predict(x_train)))\n",
    "    print(\"accuracy test : \",accuracy_score(y_test,yhat_rf))"
   ]
  },
  {
   "cell_type": "code",
   "execution_count": 44,
   "id": "29de070c",
   "metadata": {},
   "outputs": [
    {
     "name": "stdout",
     "output_type": "stream",
     "text": [
      "taille x_train :  1800\n",
      "taille x_test :  600\n",
      "\n",
      "----------------- Boosting -----------------\n",
      "train time :  10.79246211051941\n",
      "test time :  0.038450002670288086\n",
      "accuracy train :  1.0\n",
      "accuracy test :  0.85\n",
      "\n",
      "----------------- Bagging -----------------\n",
      "train time :  5.529829978942871\n",
      "test time :  0.05118417739868164\n",
      "accuracy train :  1.0\n",
      "accuracy test :  0.8416666666666667\n"
     ]
    }
   ],
   "source": [
    "experience_by_user(1)"
   ]
  },
  {
   "cell_type": "code",
   "execution_count": 34,
   "id": "6c23ee4a",
   "metadata": {},
   "outputs": [
    {
     "name": "stdout",
     "output_type": "stream",
     "text": [
      "taille x_train :  2280\n",
      "taille x_test :  120\n",
      "\n",
      "----------------- Boosting -----------------\n",
      "train time :  13.385536432266235\n",
      "test time :  0.010379791259765625\n",
      "accuracy train :  1.0\n",
      "accuracy test :  0.8\n",
      "\n",
      "----------------- Bagging -----------------\n",
      "train time :  7.28057861328125\n",
      "test time :  0.033692359924316406\n",
      "accuracy train :  1.0\n",
      "accuracy test :  0.8666666666666667\n"
     ]
    }
   ],
   "source": [
    "experience_by_user(8)"
   ]
  },
  {
   "cell_type": "markdown",
   "id": "37962e12",
   "metadata": {},
   "source": [
    "# test by users train by users"
   ]
  },
  {
   "cell_type": "code",
   "execution_count": 37,
   "id": "28a0373d",
   "metadata": {},
   "outputs": [
    {
     "name": "stdout",
     "output_type": "stream",
     "text": [
      "taille x_train :  1800\n",
      "taille x_test :  600\n"
     ]
    }
   ],
   "source": [
    "l=np.where(np.array(users[0]) == 1)[0]\n",
    "x_train=[final_predictors[i] for i in range(len(final_predictors)) if i not in l]\n",
    "print(\"taille x_train : \",len(x_train))\n",
    "y_train=[target[i] for i in range(len(final_predictors)) if i not in l]\n",
    "x_test=[final_predictors[i] for i in l]\n",
    "print(\"taille x_test : \",len(x_test))\n",
    "y_test=[target[i] for i in l]\n",
    "user_train = [users[0][i] for i in range(len(final_predictors)) if i not in l]\n",
    "user_test = [users[0][i] for i in l]"
   ]
  },
  {
   "cell_type": "code",
   "execution_count": 40,
   "id": "79fca756",
   "metadata": {},
   "outputs": [
    {
     "name": "stdout",
     "output_type": "stream",
     "text": [
      "0.9388743100171932\n",
      "{'bootstrap': True, 'bootstrap_features': False, 'max_samples': 0.6}\n",
      "train time :  5.701731443405151\n",
      "test time :  0.050951480865478516\n",
      "accuracy train :  1.0\n",
      "accuracy test :  0.8033333333333333\n"
     ]
    }
   ],
   "source": [
    "Ba = BaggingClassifier(n_estimators = 100, max_features = 0.5)\n",
    "group_kfold = GroupKFold(n_splits=7)\n",
    "iterator = group_kfold.split(x_train, y_train, user_train) \n",
    "\n",
    "pgrid = {\n",
    "    'bootstrap': [True, False],\n",
    "    'bootstrap_features': [True, False], \n",
    "    'max_samples' : [0.6, 0.8, 1.0]\n",
    "    }\n",
    "\n",
    "grid_search = GridSearchCV(Ba, param_grid=pgrid, cv=7, scoring='accuracy')\n",
    "grid_search.fit(x_train, y_train)\n",
    "print(grid_search.best_score_)\n",
    "print(grid_search.best_params_)"
   ]
  },
  {
   "cell_type": "code",
   "execution_count": 41,
   "id": "011c3620",
   "metadata": {},
   "outputs": [
    {
     "name": "stdout",
     "output_type": "stream",
     "text": [
      "train time :  2.4116711616516113\n",
      "test time :  0.0488889217376709\n",
      "accuracy train :  0.9988888888888889\n",
      "accuracy test :  0.8133333333333334\n"
     ]
    }
   ],
   "source": [
    "Ba=BaggingClassifier(bootstrap=True, bootstrap_features=False, max_samples=0.6, n_estimators = 100, max_features = 0.5)\n",
    "start_time = time.time()\n",
    "Ba.fit(x_train, y_train)\n",
    "print(\"train time : \",time.time() - start_time)\n",
    "\n",
    "start_time = time.time()\n",
    "yhat_rf=Ba.predict(x_test)\n",
    "print(\"test time : \",time.time() - start_time)\n",
    "\n",
    "print(\"accuracy train : \",accuracy_score(y_train,Ba.predict(x_train)))\n",
    "print(\"accuracy test : \",accuracy_score(y_test,yhat_rf))"
   ]
  },
  {
   "cell_type": "code",
   "execution_count": null,
   "id": "f8f1fdeb",
   "metadata": {},
   "outputs": [],
   "source": []
  }
 ],
 "metadata": {
  "kernelspec": {
   "display_name": "Python 3 (ipykernel)",
   "language": "python",
   "name": "python3"
  },
  "language_info": {
   "codemirror_mode": {
    "name": "ipython",
    "version": 3
   },
   "file_extension": ".py",
   "mimetype": "text/x-python",
   "name": "python",
   "nbconvert_exporter": "python",
   "pygments_lexer": "ipython3",
   "version": "3.9.12"
  }
 },
 "nbformat": 4,
 "nbformat_minor": 5
}
